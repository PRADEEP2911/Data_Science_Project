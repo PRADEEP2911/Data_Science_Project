{
 "cells": [
  {
   "cell_type": "markdown",
   "id": "5c1f81cb",
   "metadata": {},
   "source": [
    "# Car Price Prediction\n",
    "\n",
    "\n",
    "### Motive\n",
    "   We are required to model the price of cars with the available independent variables. It will be used by the management to understand how exactly the prices vary with the independent variables. They can accordingly manipulate the design of the cars, the business strategy, etc. to meet certain price levels.\n",
    "  \n",
    "   I have selected the required used car prices dataset with the needed features and parameters from Kaggle. The required data is cleaned and pre-processed using machine learning techniques before applying any algorithm for predicting the price. Then after pre-processing and cleaning the data first need to apply train_test_split to keep the data in two parts for training and validation.\n",
    "\n",
    "\n",
    "### Dataset description\n",
    "   The dataset used for this project consists of the following columns:\n",
    "    \n",
    "   - Car_Name\n",
    "   - Year\n",
    "   - Selling_Price\n",
    "   - Present_Price\n",
    "   - Kms_Driven\n",
    "   - Fuel_Type\n",
    "   - Seller_Type\n",
    "   - Transmission\n",
    "   - Owner\n",
    "    \n",
    "### Steps\n",
    "\n",
    "   - Import the needed libraries\n",
    "   - Reading and understanding the data\n",
    "   - Data Preprocessing\n",
    "   - Finding Outlier\n",
    "   - Exploratory Data Analysis \n",
    "   - Feature Engineering\n",
    "   - Train_Test_Split\n",
    "   - Feature encoding\n",
    "   - Feature Selection\n",
    "   - Model Training\n",
    "   - Prediction"
   ]
  },
  {
   "cell_type": "code",
   "execution_count": 1,
   "id": "a9101a20",
   "metadata": {},
   "outputs": [],
   "source": [
    "# import the needed libraries\n",
    "\n",
    "import pandas as pd\n",
    "import matplotlib.pyplot as plt\n",
    "import seaborn as sns\n",
    "import numpy as np\n",
    "import joblib as jb\n",
    "\n",
    "from sklearn.preprocessing import OrdinalEncoder\n",
    "from sklearn.preprocessing import LabelEncoder\n",
    "from sklearn.model_selection import train_test_split\n",
    "from sklearn.linear_model import LinearRegression\n",
    "from sklearn.ensemble import RandomForestRegressor\n",
    "from sklearn.tree import DecisionTreeRegressor\n",
    "from math import sqrt\n",
    "from sklearn.metrics import mean_absolute_error,mean_squared_error,r2_score\n",
    "\n",
    "import warnings\n",
    "warnings.filterwarnings('ignore')"
   ]
  },
  {
   "cell_type": "markdown",
   "id": "00caf896",
   "metadata": {},
   "source": [
    "### Reading and Understanding the Data\n",
    "\n",
    "- Importing data using the pandas library\n",
    "- Understanding the structure of the data"
   ]
  },
  {
   "cell_type": "code",
   "execution_count": 2,
   "id": "45c49465",
   "metadata": {},
   "outputs": [],
   "source": [
    "# using pandas dataframe to read the data\n",
    "df=pd.read_csv('Data/Train/Raw/train.csv')"
   ]
  },
  {
   "cell_type": "code",
   "execution_count": 3,
   "id": "47c5cf64",
   "metadata": {},
   "outputs": [
    {
     "data": {
      "text/html": [
       "<div>\n",
       "<style scoped>\n",
       "    .dataframe tbody tr th:only-of-type {\n",
       "        vertical-align: middle;\n",
       "    }\n",
       "\n",
       "    .dataframe tbody tr th {\n",
       "        vertical-align: top;\n",
       "    }\n",
       "\n",
       "    .dataframe thead th {\n",
       "        text-align: right;\n",
       "    }\n",
       "</style>\n",
       "<table border=\"1\" class=\"dataframe\">\n",
       "  <thead>\n",
       "    <tr style=\"text-align: right;\">\n",
       "      <th></th>\n",
       "      <th>Car_Name</th>\n",
       "      <th>Year</th>\n",
       "      <th>Selling_Price</th>\n",
       "      <th>Present_Price</th>\n",
       "      <th>Kms_Driven</th>\n",
       "      <th>Fuel_Type</th>\n",
       "      <th>Seller_Type</th>\n",
       "      <th>Transmission</th>\n",
       "      <th>Owner</th>\n",
       "    </tr>\n",
       "  </thead>\n",
       "  <tbody>\n",
       "    <tr>\n",
       "      <th>0</th>\n",
       "      <td>Royal Enfield Classic 500</td>\n",
       "      <td>2009</td>\n",
       "      <td>0.90</td>\n",
       "      <td>1.75</td>\n",
       "      <td>40000</td>\n",
       "      <td>Petrol</td>\n",
       "      <td>Individual</td>\n",
       "      <td>Manual</td>\n",
       "      <td>0</td>\n",
       "    </tr>\n",
       "    <tr>\n",
       "      <th>1</th>\n",
       "      <td>Honda Activa 4G</td>\n",
       "      <td>2017</td>\n",
       "      <td>0.48</td>\n",
       "      <td>0.51</td>\n",
       "      <td>4300</td>\n",
       "      <td>Petrol</td>\n",
       "      <td>Individual</td>\n",
       "      <td>Automatic</td>\n",
       "      <td>0</td>\n",
       "    </tr>\n",
       "    <tr>\n",
       "      <th>2</th>\n",
       "      <td>xcent</td>\n",
       "      <td>2014</td>\n",
       "      <td>4.40</td>\n",
       "      <td>7.13</td>\n",
       "      <td>34000</td>\n",
       "      <td>Petrol</td>\n",
       "      <td>Dealer</td>\n",
       "      <td>Manual</td>\n",
       "      <td>0</td>\n",
       "    </tr>\n",
       "    <tr>\n",
       "      <th>3</th>\n",
       "      <td>800</td>\n",
       "      <td>2003</td>\n",
       "      <td>0.35</td>\n",
       "      <td>2.28</td>\n",
       "      <td>127000</td>\n",
       "      <td>Petrol</td>\n",
       "      <td>Individual</td>\n",
       "      <td>Manual</td>\n",
       "      <td>0</td>\n",
       "    </tr>\n",
       "    <tr>\n",
       "      <th>4</th>\n",
       "      <td>dzire</td>\n",
       "      <td>2014</td>\n",
       "      <td>5.50</td>\n",
       "      <td>8.06</td>\n",
       "      <td>45000</td>\n",
       "      <td>Diesel</td>\n",
       "      <td>Dealer</td>\n",
       "      <td>Manual</td>\n",
       "      <td>0</td>\n",
       "    </tr>\n",
       "    <tr>\n",
       "      <th>...</th>\n",
       "      <td>...</td>\n",
       "      <td>...</td>\n",
       "      <td>...</td>\n",
       "      <td>...</td>\n",
       "      <td>...</td>\n",
       "      <td>...</td>\n",
       "      <td>...</td>\n",
       "      <td>...</td>\n",
       "      <td>...</td>\n",
       "    </tr>\n",
       "    <tr>\n",
       "      <th>205</th>\n",
       "      <td>Hyosung GT250R</td>\n",
       "      <td>2014</td>\n",
       "      <td>1.35</td>\n",
       "      <td>3.45</td>\n",
       "      <td>16500</td>\n",
       "      <td>Petrol</td>\n",
       "      <td>Individual</td>\n",
       "      <td>Manual</td>\n",
       "      <td>1</td>\n",
       "    </tr>\n",
       "    <tr>\n",
       "      <th>206</th>\n",
       "      <td>innova</td>\n",
       "      <td>2015</td>\n",
       "      <td>12.50</td>\n",
       "      <td>13.46</td>\n",
       "      <td>38000</td>\n",
       "      <td>Diesel</td>\n",
       "      <td>Dealer</td>\n",
       "      <td>Manual</td>\n",
       "      <td>0</td>\n",
       "    </tr>\n",
       "    <tr>\n",
       "      <th>207</th>\n",
       "      <td>ertiga</td>\n",
       "      <td>2016</td>\n",
       "      <td>7.75</td>\n",
       "      <td>10.79</td>\n",
       "      <td>43000</td>\n",
       "      <td>Diesel</td>\n",
       "      <td>Dealer</td>\n",
       "      <td>Manual</td>\n",
       "      <td>0</td>\n",
       "    </tr>\n",
       "    <tr>\n",
       "      <th>208</th>\n",
       "      <td>verna</td>\n",
       "      <td>2013</td>\n",
       "      <td>6.15</td>\n",
       "      <td>9.40</td>\n",
       "      <td>45000</td>\n",
       "      <td>Diesel</td>\n",
       "      <td>Dealer</td>\n",
       "      <td>Manual</td>\n",
       "      <td>0</td>\n",
       "    </tr>\n",
       "    <tr>\n",
       "      <th>209</th>\n",
       "      <td>corolla altis</td>\n",
       "      <td>2013</td>\n",
       "      <td>7.05</td>\n",
       "      <td>18.61</td>\n",
       "      <td>45000</td>\n",
       "      <td>Petrol</td>\n",
       "      <td>Dealer</td>\n",
       "      <td>Manual</td>\n",
       "      <td>0</td>\n",
       "    </tr>\n",
       "  </tbody>\n",
       "</table>\n",
       "<p>210 rows × 9 columns</p>\n",
       "</div>"
      ],
      "text/plain": [
       "                      Car_Name  Year  Selling_Price  Present_Price   \n",
       "0    Royal Enfield Classic 500  2009           0.90           1.75  \\\n",
       "1              Honda Activa 4G  2017           0.48           0.51   \n",
       "2                        xcent  2014           4.40           7.13   \n",
       "3                          800  2003           0.35           2.28   \n",
       "4                        dzire  2014           5.50           8.06   \n",
       "..                         ...   ...            ...            ...   \n",
       "205             Hyosung GT250R  2014           1.35           3.45   \n",
       "206                     innova  2015          12.50          13.46   \n",
       "207                     ertiga  2016           7.75          10.79   \n",
       "208                      verna  2013           6.15           9.40   \n",
       "209              corolla altis  2013           7.05          18.61   \n",
       "\n",
       "     Kms_Driven Fuel_Type Seller_Type Transmission  Owner  \n",
       "0         40000    Petrol  Individual       Manual      0  \n",
       "1          4300    Petrol  Individual    Automatic      0  \n",
       "2         34000    Petrol      Dealer       Manual      0  \n",
       "3        127000    Petrol  Individual       Manual      0  \n",
       "4         45000    Diesel      Dealer       Manual      0  \n",
       "..          ...       ...         ...          ...    ...  \n",
       "205       16500    Petrol  Individual       Manual      1  \n",
       "206       38000    Diesel      Dealer       Manual      0  \n",
       "207       43000    Diesel      Dealer       Manual      0  \n",
       "208       45000    Diesel      Dealer       Manual      0  \n",
       "209       45000    Petrol      Dealer       Manual      0  \n",
       "\n",
       "[210 rows x 9 columns]"
      ]
     },
     "execution_count": 3,
     "metadata": {},
     "output_type": "execute_result"
    }
   ],
   "source": [
    "df"
   ]
  },
  {
   "cell_type": "markdown",
   "id": "4f84c6b3",
   "metadata": {},
   "source": [
    "## Data Preprocessing"
   ]
  },
  {
   "cell_type": "code",
   "execution_count": 4,
   "id": "5e24b472",
   "metadata": {},
   "outputs": [
    {
     "name": "stdout",
     "output_type": "stream",
     "text": [
      "<class 'pandas.core.frame.DataFrame'>\n",
      "RangeIndex: 210 entries, 0 to 209\n",
      "Data columns (total 9 columns):\n",
      " #   Column         Non-Null Count  Dtype  \n",
      "---  ------         --------------  -----  \n",
      " 0   Car_Name       210 non-null    object \n",
      " 1   Year           210 non-null    int64  \n",
      " 2   Selling_Price  210 non-null    float64\n",
      " 3   Present_Price  210 non-null    float64\n",
      " 4   Kms_Driven     210 non-null    int64  \n",
      " 5   Fuel_Type      210 non-null    object \n",
      " 6   Seller_Type    210 non-null    object \n",
      " 7   Transmission   210 non-null    object \n",
      " 8   Owner          210 non-null    int64  \n",
      "dtypes: float64(2), int64(3), object(4)\n",
      "memory usage: 14.9+ KB\n"
     ]
    }
   ],
   "source": [
    "df.info()"
   ]
  },
  {
   "cell_type": "code",
   "execution_count": 5,
   "id": "f6e9d916",
   "metadata": {},
   "outputs": [
    {
     "data": {
      "text/html": [
       "<div>\n",
       "<style scoped>\n",
       "    .dataframe tbody tr th:only-of-type {\n",
       "        vertical-align: middle;\n",
       "    }\n",
       "\n",
       "    .dataframe tbody tr th {\n",
       "        vertical-align: top;\n",
       "    }\n",
       "\n",
       "    .dataframe thead th {\n",
       "        text-align: right;\n",
       "    }\n",
       "</style>\n",
       "<table border=\"1\" class=\"dataframe\">\n",
       "  <thead>\n",
       "    <tr style=\"text-align: right;\">\n",
       "      <th></th>\n",
       "      <th>Car_Name</th>\n",
       "      <th>Year</th>\n",
       "      <th>Selling_Price</th>\n",
       "      <th>Present_Price</th>\n",
       "      <th>Kms_Driven</th>\n",
       "      <th>Fuel_Type</th>\n",
       "      <th>Seller_Type</th>\n",
       "      <th>Transmission</th>\n",
       "      <th>Owner</th>\n",
       "    </tr>\n",
       "  </thead>\n",
       "  <tbody>\n",
       "    <tr>\n",
       "      <th>count</th>\n",
       "      <td>210</td>\n",
       "      <td>210.00000</td>\n",
       "      <td>210.000000</td>\n",
       "      <td>210.000000</td>\n",
       "      <td>210.000000</td>\n",
       "      <td>210</td>\n",
       "      <td>210</td>\n",
       "      <td>210</td>\n",
       "      <td>210.000000</td>\n",
       "    </tr>\n",
       "    <tr>\n",
       "      <th>unique</th>\n",
       "      <td>80</td>\n",
       "      <td>NaN</td>\n",
       "      <td>NaN</td>\n",
       "      <td>NaN</td>\n",
       "      <td>NaN</td>\n",
       "      <td>3</td>\n",
       "      <td>2</td>\n",
       "      <td>2</td>\n",
       "      <td>NaN</td>\n",
       "    </tr>\n",
       "    <tr>\n",
       "      <th>top</th>\n",
       "      <td>city</td>\n",
       "      <td>NaN</td>\n",
       "      <td>NaN</td>\n",
       "      <td>NaN</td>\n",
       "      <td>NaN</td>\n",
       "      <td>Petrol</td>\n",
       "      <td>Dealer</td>\n",
       "      <td>Manual</td>\n",
       "      <td>NaN</td>\n",
       "    </tr>\n",
       "    <tr>\n",
       "      <th>freq</th>\n",
       "      <td>18</td>\n",
       "      <td>NaN</td>\n",
       "      <td>NaN</td>\n",
       "      <td>NaN</td>\n",
       "      <td>NaN</td>\n",
       "      <td>165</td>\n",
       "      <td>137</td>\n",
       "      <td>180</td>\n",
       "      <td>NaN</td>\n",
       "    </tr>\n",
       "    <tr>\n",
       "      <th>mean</th>\n",
       "      <td>NaN</td>\n",
       "      <td>2013.60000</td>\n",
       "      <td>4.828857</td>\n",
       "      <td>7.942795</td>\n",
       "      <td>34616.880952</td>\n",
       "      <td>NaN</td>\n",
       "      <td>NaN</td>\n",
       "      <td>NaN</td>\n",
       "      <td>0.047619</td>\n",
       "    </tr>\n",
       "    <tr>\n",
       "      <th>std</th>\n",
       "      <td>NaN</td>\n",
       "      <td>2.96099</td>\n",
       "      <td>5.420704</td>\n",
       "      <td>9.518319</td>\n",
       "      <td>27778.841104</td>\n",
       "      <td>NaN</td>\n",
       "      <td>NaN</td>\n",
       "      <td>NaN</td>\n",
       "      <td>0.272537</td>\n",
       "    </tr>\n",
       "    <tr>\n",
       "      <th>min</th>\n",
       "      <td>NaN</td>\n",
       "      <td>2003.00000</td>\n",
       "      <td>0.100000</td>\n",
       "      <td>0.470000</td>\n",
       "      <td>500.000000</td>\n",
       "      <td>NaN</td>\n",
       "      <td>NaN</td>\n",
       "      <td>NaN</td>\n",
       "      <td>0.000000</td>\n",
       "    </tr>\n",
       "    <tr>\n",
       "      <th>25%</th>\n",
       "      <td>NaN</td>\n",
       "      <td>2012.00000</td>\n",
       "      <td>1.050000</td>\n",
       "      <td>1.470000</td>\n",
       "      <td>14473.750000</td>\n",
       "      <td>NaN</td>\n",
       "      <td>NaN</td>\n",
       "      <td>NaN</td>\n",
       "      <td>0.000000</td>\n",
       "    </tr>\n",
       "    <tr>\n",
       "      <th>50%</th>\n",
       "      <td>NaN</td>\n",
       "      <td>2014.00000</td>\n",
       "      <td>3.500000</td>\n",
       "      <td>6.010000</td>\n",
       "      <td>30000.000000</td>\n",
       "      <td>NaN</td>\n",
       "      <td>NaN</td>\n",
       "      <td>NaN</td>\n",
       "      <td>0.000000</td>\n",
       "    </tr>\n",
       "    <tr>\n",
       "      <th>75%</th>\n",
       "      <td>NaN</td>\n",
       "      <td>2016.00000</td>\n",
       "      <td>6.075000</td>\n",
       "      <td>9.930000</td>\n",
       "      <td>46875.000000</td>\n",
       "      <td>NaN</td>\n",
       "      <td>NaN</td>\n",
       "      <td>NaN</td>\n",
       "      <td>0.000000</td>\n",
       "    </tr>\n",
       "    <tr>\n",
       "      <th>max</th>\n",
       "      <td>NaN</td>\n",
       "      <td>2017.00000</td>\n",
       "      <td>35.000000</td>\n",
       "      <td>92.600000</td>\n",
       "      <td>197176.000000</td>\n",
       "      <td>NaN</td>\n",
       "      <td>NaN</td>\n",
       "      <td>NaN</td>\n",
       "      <td>3.000000</td>\n",
       "    </tr>\n",
       "  </tbody>\n",
       "</table>\n",
       "</div>"
      ],
      "text/plain": [
       "       Car_Name        Year  Selling_Price  Present_Price     Kms_Driven   \n",
       "count       210   210.00000     210.000000     210.000000     210.000000  \\\n",
       "unique       80         NaN            NaN            NaN            NaN   \n",
       "top        city         NaN            NaN            NaN            NaN   \n",
       "freq         18         NaN            NaN            NaN            NaN   \n",
       "mean        NaN  2013.60000       4.828857       7.942795   34616.880952   \n",
       "std         NaN     2.96099       5.420704       9.518319   27778.841104   \n",
       "min         NaN  2003.00000       0.100000       0.470000     500.000000   \n",
       "25%         NaN  2012.00000       1.050000       1.470000   14473.750000   \n",
       "50%         NaN  2014.00000       3.500000       6.010000   30000.000000   \n",
       "75%         NaN  2016.00000       6.075000       9.930000   46875.000000   \n",
       "max         NaN  2017.00000      35.000000      92.600000  197176.000000   \n",
       "\n",
       "       Fuel_Type Seller_Type Transmission       Owner  \n",
       "count        210         210          210  210.000000  \n",
       "unique         3           2            2         NaN  \n",
       "top       Petrol      Dealer       Manual         NaN  \n",
       "freq         165         137          180         NaN  \n",
       "mean         NaN         NaN          NaN    0.047619  \n",
       "std          NaN         NaN          NaN    0.272537  \n",
       "min          NaN         NaN          NaN    0.000000  \n",
       "25%          NaN         NaN          NaN    0.000000  \n",
       "50%          NaN         NaN          NaN    0.000000  \n",
       "75%          NaN         NaN          NaN    0.000000  \n",
       "max          NaN         NaN          NaN    3.000000  "
      ]
     },
     "execution_count": 5,
     "metadata": {},
     "output_type": "execute_result"
    }
   ],
   "source": [
    "df.describe(include=\"all\")"
   ]
  },
  {
   "cell_type": "code",
   "execution_count": 6,
   "id": "b39c0e67",
   "metadata": {},
   "outputs": [
    {
     "data": {
      "text/plain": [
       "(210, 9)"
      ]
     },
     "execution_count": 6,
     "metadata": {},
     "output_type": "execute_result"
    }
   ],
   "source": [
    "df.shape"
   ]
  },
  {
   "cell_type": "code",
   "execution_count": 7,
   "id": "e9d8d89a",
   "metadata": {},
   "outputs": [
    {
     "data": {
      "text/plain": [
       "Car_Name          80\n",
       "Year              15\n",
       "Selling_Price    127\n",
       "Present_Price    118\n",
       "Kms_Driven       158\n",
       "Fuel_Type          3\n",
       "Seller_Type        2\n",
       "Transmission       2\n",
       "Owner              3\n",
       "dtype: int64"
      ]
     },
     "execution_count": 7,
     "metadata": {},
     "output_type": "execute_result"
    }
   ],
   "source": [
    "df.nunique()"
   ]
  },
  {
   "cell_type": "code",
   "execution_count": 8,
   "id": "0743b464",
   "metadata": {},
   "outputs": [
    {
     "data": {
      "text/plain": [
       "Car_Name         0\n",
       "Year             0\n",
       "Selling_Price    0\n",
       "Present_Price    0\n",
       "Kms_Driven       0\n",
       "Fuel_Type        0\n",
       "Seller_Type      0\n",
       "Transmission     0\n",
       "Owner            0\n",
       "dtype: int64"
      ]
     },
     "execution_count": 8,
     "metadata": {},
     "output_type": "execute_result"
    }
   ],
   "source": [
    "df.isnull().sum()"
   ]
  },
  {
   "cell_type": "code",
   "execution_count": 9,
   "id": "ac2ad148",
   "metadata": {},
   "outputs": [
    {
     "data": {
      "text/plain": [
       "80"
      ]
     },
     "execution_count": 9,
     "metadata": {},
     "output_type": "execute_result"
    }
   ],
   "source": [
    "len(df['Car_Name'].unique())\n",
    "\n",
    "# We have over 80 unique car names, so we will extract only the car brand from the car names"
   ]
  },
  {
   "cell_type": "code",
   "execution_count": 10,
   "id": "6c2448a3",
   "metadata": {},
   "outputs": [],
   "source": [
    "df[\"Brand_Name\"]=df[\"Car_Name\"].str.split(\" \",expand=True)[0]"
   ]
  },
  {
   "cell_type": "code",
   "execution_count": 11,
   "id": "7ac4888c",
   "metadata": {},
   "outputs": [
    {
     "data": {
      "text/plain": [
       "Brand_Name\n",
       "Bajaj       19\n",
       "city        18\n",
       "Royal       14\n",
       "corolla     11\n",
       "Honda       11\n",
       "fortuner    10\n",
       "verna       10\n",
       "etios        7\n",
       "ciaz         7\n",
       "Hero         7\n",
       "i20          7\n",
       "grand        7\n",
       "brio         7\n",
       "ertiga       6\n",
       "TVS          6\n",
       "Yamaha       6\n",
       "innova       6\n",
       "eon          5\n",
       "alto         4\n",
       "i10          4\n",
       "swift        4\n",
       "jazz         4\n",
       "wagon        3\n",
       "dzire        3\n",
       "elantra      2\n",
       "sx4          2\n",
       "ritz         2\n",
       "creta        2\n",
       "xcent        2\n",
       "amaze        2\n",
       "KTM          2\n",
       "800          1\n",
       "Activa       1\n",
       "Suzuki       1\n",
       "omni         1\n",
       "baleno       1\n",
       "land         1\n",
       "camry        1\n",
       "UM           1\n",
       "Mahindra     1\n",
       "Hyosung      1\n",
       "Name: count, dtype: int64"
      ]
     },
     "execution_count": 11,
     "metadata": {},
     "output_type": "execute_result"
    }
   ],
   "source": [
    "df[\"Brand_Name\"].value_counts()"
   ]
  },
  {
   "cell_type": "code",
   "execution_count": 12,
   "id": "c429b9dd",
   "metadata": {},
   "outputs": [],
   "source": [
    "# we consider the \"Brand_Name\" instead of \"Car_Name\"\n",
    "\n",
    "df.drop(['Car_Name'], axis = 1, inplace = True)"
   ]
  },
  {
   "cell_type": "code",
   "execution_count": 13,
   "id": "73478fbb",
   "metadata": {},
   "outputs": [
    {
     "data": {
      "text/plain": [
       "Year\n",
       "2015    41\n",
       "2016    33\n",
       "2017    27\n",
       "2013    27\n",
       "2014    25\n",
       "2012    17\n",
       "2011    12\n",
       "2010    10\n",
       "2009     5\n",
       "2006     4\n",
       "2005     3\n",
       "2003     2\n",
       "2008     2\n",
       "2004     1\n",
       "2007     1\n",
       "Name: count, dtype: int64"
      ]
     },
     "execution_count": 13,
     "metadata": {},
     "output_type": "execute_result"
    }
   ],
   "source": [
    "df[\"Year\"].value_counts()"
   ]
  },
  {
   "cell_type": "code",
   "execution_count": 14,
   "id": "4dca803d",
   "metadata": {},
   "outputs": [],
   "source": [
    "df['Age'] = 2023 - df['Year']"
   ]
  },
  {
   "cell_type": "code",
   "execution_count": 15,
   "id": "aeefd5ee",
   "metadata": {},
   "outputs": [],
   "source": [
    "# we consider the \"age\" instead of \"year\"\n",
    "\n",
    "df.drop(['Year'], axis = 1, inplace = True)"
   ]
  },
  {
   "cell_type": "code",
   "execution_count": 16,
   "id": "dd566df1",
   "metadata": {},
   "outputs": [],
   "source": [
    "df.drop(['Owner'], axis = 1, inplace = True)"
   ]
  },
  {
   "cell_type": "code",
   "execution_count": 17,
   "id": "a151f06b",
   "metadata": {},
   "outputs": [
    {
     "data": {
      "text/html": [
       "<div>\n",
       "<style scoped>\n",
       "    .dataframe tbody tr th:only-of-type {\n",
       "        vertical-align: middle;\n",
       "    }\n",
       "\n",
       "    .dataframe tbody tr th {\n",
       "        vertical-align: top;\n",
       "    }\n",
       "\n",
       "    .dataframe thead th {\n",
       "        text-align: right;\n",
       "    }\n",
       "</style>\n",
       "<table border=\"1\" class=\"dataframe\">\n",
       "  <thead>\n",
       "    <tr style=\"text-align: right;\">\n",
       "      <th></th>\n",
       "      <th>Selling_Price</th>\n",
       "      <th>Present_Price</th>\n",
       "      <th>Kms_Driven</th>\n",
       "      <th>Fuel_Type</th>\n",
       "      <th>Seller_Type</th>\n",
       "      <th>Transmission</th>\n",
       "      <th>Brand_Name</th>\n",
       "      <th>Age</th>\n",
       "    </tr>\n",
       "  </thead>\n",
       "  <tbody>\n",
       "    <tr>\n",
       "      <th>0</th>\n",
       "      <td>0.90</td>\n",
       "      <td>1.75</td>\n",
       "      <td>40000</td>\n",
       "      <td>Petrol</td>\n",
       "      <td>Individual</td>\n",
       "      <td>Manual</td>\n",
       "      <td>Royal</td>\n",
       "      <td>14</td>\n",
       "    </tr>\n",
       "    <tr>\n",
       "      <th>1</th>\n",
       "      <td>0.48</td>\n",
       "      <td>0.51</td>\n",
       "      <td>4300</td>\n",
       "      <td>Petrol</td>\n",
       "      <td>Individual</td>\n",
       "      <td>Automatic</td>\n",
       "      <td>Honda</td>\n",
       "      <td>6</td>\n",
       "    </tr>\n",
       "    <tr>\n",
       "      <th>2</th>\n",
       "      <td>4.40</td>\n",
       "      <td>7.13</td>\n",
       "      <td>34000</td>\n",
       "      <td>Petrol</td>\n",
       "      <td>Dealer</td>\n",
       "      <td>Manual</td>\n",
       "      <td>xcent</td>\n",
       "      <td>9</td>\n",
       "    </tr>\n",
       "    <tr>\n",
       "      <th>3</th>\n",
       "      <td>0.35</td>\n",
       "      <td>2.28</td>\n",
       "      <td>127000</td>\n",
       "      <td>Petrol</td>\n",
       "      <td>Individual</td>\n",
       "      <td>Manual</td>\n",
       "      <td>800</td>\n",
       "      <td>20</td>\n",
       "    </tr>\n",
       "    <tr>\n",
       "      <th>4</th>\n",
       "      <td>5.50</td>\n",
       "      <td>8.06</td>\n",
       "      <td>45000</td>\n",
       "      <td>Diesel</td>\n",
       "      <td>Dealer</td>\n",
       "      <td>Manual</td>\n",
       "      <td>dzire</td>\n",
       "      <td>9</td>\n",
       "    </tr>\n",
       "    <tr>\n",
       "      <th>...</th>\n",
       "      <td>...</td>\n",
       "      <td>...</td>\n",
       "      <td>...</td>\n",
       "      <td>...</td>\n",
       "      <td>...</td>\n",
       "      <td>...</td>\n",
       "      <td>...</td>\n",
       "      <td>...</td>\n",
       "    </tr>\n",
       "    <tr>\n",
       "      <th>205</th>\n",
       "      <td>1.35</td>\n",
       "      <td>3.45</td>\n",
       "      <td>16500</td>\n",
       "      <td>Petrol</td>\n",
       "      <td>Individual</td>\n",
       "      <td>Manual</td>\n",
       "      <td>Hyosung</td>\n",
       "      <td>9</td>\n",
       "    </tr>\n",
       "    <tr>\n",
       "      <th>206</th>\n",
       "      <td>12.50</td>\n",
       "      <td>13.46</td>\n",
       "      <td>38000</td>\n",
       "      <td>Diesel</td>\n",
       "      <td>Dealer</td>\n",
       "      <td>Manual</td>\n",
       "      <td>innova</td>\n",
       "      <td>8</td>\n",
       "    </tr>\n",
       "    <tr>\n",
       "      <th>207</th>\n",
       "      <td>7.75</td>\n",
       "      <td>10.79</td>\n",
       "      <td>43000</td>\n",
       "      <td>Diesel</td>\n",
       "      <td>Dealer</td>\n",
       "      <td>Manual</td>\n",
       "      <td>ertiga</td>\n",
       "      <td>7</td>\n",
       "    </tr>\n",
       "    <tr>\n",
       "      <th>208</th>\n",
       "      <td>6.15</td>\n",
       "      <td>9.40</td>\n",
       "      <td>45000</td>\n",
       "      <td>Diesel</td>\n",
       "      <td>Dealer</td>\n",
       "      <td>Manual</td>\n",
       "      <td>verna</td>\n",
       "      <td>10</td>\n",
       "    </tr>\n",
       "    <tr>\n",
       "      <th>209</th>\n",
       "      <td>7.05</td>\n",
       "      <td>18.61</td>\n",
       "      <td>45000</td>\n",
       "      <td>Petrol</td>\n",
       "      <td>Dealer</td>\n",
       "      <td>Manual</td>\n",
       "      <td>corolla</td>\n",
       "      <td>10</td>\n",
       "    </tr>\n",
       "  </tbody>\n",
       "</table>\n",
       "<p>210 rows × 8 columns</p>\n",
       "</div>"
      ],
      "text/plain": [
       "     Selling_Price  Present_Price  Kms_Driven Fuel_Type Seller_Type   \n",
       "0             0.90           1.75       40000    Petrol  Individual  \\\n",
       "1             0.48           0.51        4300    Petrol  Individual   \n",
       "2             4.40           7.13       34000    Petrol      Dealer   \n",
       "3             0.35           2.28      127000    Petrol  Individual   \n",
       "4             5.50           8.06       45000    Diesel      Dealer   \n",
       "..             ...            ...         ...       ...         ...   \n",
       "205           1.35           3.45       16500    Petrol  Individual   \n",
       "206          12.50          13.46       38000    Diesel      Dealer   \n",
       "207           7.75          10.79       43000    Diesel      Dealer   \n",
       "208           6.15           9.40       45000    Diesel      Dealer   \n",
       "209           7.05          18.61       45000    Petrol      Dealer   \n",
       "\n",
       "    Transmission Brand_Name  Age  \n",
       "0         Manual      Royal   14  \n",
       "1      Automatic      Honda    6  \n",
       "2         Manual      xcent    9  \n",
       "3         Manual        800   20  \n",
       "4         Manual      dzire    9  \n",
       "..           ...        ...  ...  \n",
       "205       Manual    Hyosung    9  \n",
       "206       Manual     innova    8  \n",
       "207       Manual     ertiga    7  \n",
       "208       Manual      verna   10  \n",
       "209       Manual    corolla   10  \n",
       "\n",
       "[210 rows x 8 columns]"
      ]
     },
     "execution_count": 17,
     "metadata": {},
     "output_type": "execute_result"
    }
   ],
   "source": [
    "df"
   ]
  },
  {
   "cell_type": "code",
   "execution_count": 18,
   "id": "4b2eb26c",
   "metadata": {},
   "outputs": [
    {
     "data": {
      "text/plain": [
       "count       210.0\n",
       "mean      34617.0\n",
       "std       27779.0\n",
       "min         500.0\n",
       "25%       14474.0\n",
       "50%       30000.0\n",
       "75%       46875.0\n",
       "max      197176.0\n",
       "Name: Kms_Driven, dtype: float64"
      ]
     },
     "execution_count": 18,
     "metadata": {},
     "output_type": "execute_result"
    }
   ],
   "source": [
    "df['Kms_Driven'].describe().round()"
   ]
  },
  {
   "cell_type": "markdown",
   "id": "e7437116",
   "metadata": {},
   "source": [
    "## Finding Outlier"
   ]
  },
  {
   "cell_type": "code",
   "execution_count": 19,
   "id": "0ba6ba58",
   "metadata": {},
   "outputs": [
    {
     "data": {
      "image/png": "[encoded data removed]",
      "text/plain": [
       "<Figure size 700x500 with 1 Axes>"
      ]
     },
     "metadata": {},
     "output_type": "display_data"
    }
   ],
   "source": [
    "plt.figure(figsize=(7,5))\n",
    "sns.boxplot(df)\n",
    "plt.show()"
   ]
  },
  {
   "cell_type": "code",
   "execution_count": 20,
   "id": "c877c5eb",
   "metadata": {},
   "outputs": [
    {
     "data": {
      "image/png": "[encoded data removed]",
      "text/plain": [
       "<Figure size 500x300 with 1 Axes>"
      ]
     },
     "metadata": {},
     "output_type": "display_data"
    },
    {
     "data": {
      "image/png": "[encoded data removed]",
      "text/plain": [
       "<Figure size 500x300 with 1 Axes>"
      ]
     },
     "metadata": {},
     "output_type": "display_data"
    },
    {
     "data": {
      "image/png": "[encoded data removed]",
      "text/plain": [
       "<Figure size 500x300 with 1 Axes>"
      ]
     },
     "metadata": {},
     "output_type": "display_data"
    },
    {
     "data": {
      "image/png": "[encoded data removed]",
      "text/plain": [
       "<Figure size 500x300 with 1 Axes>"
      ]
     },
     "metadata": {},
     "output_type": "display_data"
    }
   ],
   "source": [
    "plt.figure(figsize=(5,3))\n",
    "sns.boxplot(df['Selling_Price'])\n",
    "plt.title('Selling Price')\n",
    "plt.show()\n",
    "\n",
    "plt.figure(figsize=(5,3))\n",
    "sns.boxplot(df['Present_Price'])\n",
    "plt.title('Present Price')\n",
    "plt.show()\n",
    "\n",
    "plt.figure(figsize=(5,3))\n",
    "sns.boxplot(df['Kms_Driven'])\n",
    "plt.title('Kms Driven')\n",
    "plt.show()\n",
    "\n",
    "plt.figure(figsize=(5,3))\n",
    "sns.boxplot(df['Age'])\n",
    "plt.title('Age')\n",
    "plt.show()"
   ]
  },
  {
   "cell_type": "code",
   "execution_count": 21,
   "id": "37e7348e",
   "metadata": {},
   "outputs": [
    {
     "data": {
      "text/plain": [
       "0       0.90\n",
       "1       0.48\n",
       "2       4.40\n",
       "3       0.35\n",
       "4       5.50\n",
       "       ...  \n",
       "205     1.35\n",
       "206    11.10\n",
       "207     7.75\n",
       "208     6.15\n",
       "209     7.05\n",
       "Name: Selling_Price, Length: 210, dtype: float64"
      ]
     },
     "execution_count": 21,
     "metadata": {},
     "output_type": "execute_result"
    }
   ],
   "source": [
    "#handling outlier in Selling_Price\n",
    "\n",
    "q1=df['Selling_Price'].quantile(0.25)\n",
    "q3=df['Selling_Price'].quantile(0.75)\n",
    "IQR=q3-q1\n",
    "lower_range=q1-1.5*IQR\n",
    "upper_range=q3+IQR\n",
    "df['Selling_Price']=np.where(df['Selling_Price']<lower_range,lower_range,\n",
    "                    np.where(df['Selling_Price']>upper_range,upper_range,df['Selling_Price']))\n",
    "df['Selling_Price']\n"
   ]
  },
  {
   "cell_type": "code",
   "execution_count": 22,
   "id": "263195ea",
   "metadata": {},
   "outputs": [
    {
     "data": {
      "image/png": "[encoded data removed]",
      "text/plain": [
       "<Figure size 500x300 with 1 Axes>"
      ]
     },
     "metadata": {},
     "output_type": "display_data"
    }
   ],
   "source": [
    "plt.figure(figsize=(5,3))\n",
    "sns.boxplot(df['Selling_Price'])\n",
    "plt.show()"
   ]
  },
  {
   "cell_type": "code",
   "execution_count": 23,
   "id": "d7222636",
   "metadata": {},
   "outputs": [
    {
     "data": {
      "text/plain": [
       "0       1.75\n",
       "1       0.51\n",
       "2       7.13\n",
       "3       2.28\n",
       "4       8.06\n",
       "       ...  \n",
       "205     3.45\n",
       "206    13.46\n",
       "207    10.79\n",
       "208     9.40\n",
       "209    18.39\n",
       "Name: Present_Price, Length: 210, dtype: float64"
      ]
     },
     "execution_count": 23,
     "metadata": {},
     "output_type": "execute_result"
    }
   ],
   "source": [
    "#handling outlier in Present_Price\n",
    "\n",
    "q1=df['Present_Price'].quantile(0.25)\n",
    "q3=df['Present_Price'].quantile(0.75)\n",
    "IQR=q3-q1\n",
    "lower_range=q1-1.5*IQR\n",
    "upper_range=q3+IQR\n",
    "df['Present_Price']=np.where(df['Present_Price']<lower_range,lower_range,\n",
    "                    np.where(df['Present_Price']>upper_range,upper_range,df['Present_Price']))\n",
    "df['Present_Price']"
   ]
  },
  {
   "cell_type": "code",
   "execution_count": 24,
   "id": "93ec960a",
   "metadata": {},
   "outputs": [
    {
     "data": {
      "image/png": "[encoded data removed]",
      "text/plain": [
       "<Figure size 500x300 with 1 Axes>"
      ]
     },
     "metadata": {},
     "output_type": "display_data"
    }
   ],
   "source": [
    "plt.figure(figsize=(5,3))\n",
    "sns.boxplot(df['Present_Price'])\n",
    "plt.show()"
   ]
  },
  {
   "cell_type": "code",
   "execution_count": 25,
   "id": "5e626863",
   "metadata": {},
   "outputs": [
    {
     "data": {
      "text/plain": [
       "0      40000.00\n",
       "1       4300.00\n",
       "2      34000.00\n",
       "3      79276.25\n",
       "4      45000.00\n",
       "         ...   \n",
       "205    16500.00\n",
       "206    38000.00\n",
       "207    43000.00\n",
       "208    45000.00\n",
       "209    45000.00\n",
       "Name: Kms_Driven, Length: 210, dtype: float64"
      ]
     },
     "execution_count": 25,
     "metadata": {},
     "output_type": "execute_result"
    }
   ],
   "source": [
    "#handling outlier in Kms_Driven\n",
    "\n",
    "q1=df['Kms_Driven'].quantile(0.25)\n",
    "q3=df['Kms_Driven'].quantile(0.75)\n",
    "IQR=q3-q1\n",
    "lower_range=q1-1.5*IQR\n",
    "upper_range=q3+IQR\n",
    "df['Kms_Driven']=np.where(df['Kms_Driven']<lower_range,lower_range,\n",
    "                    np.where(df['Kms_Driven']>upper_range,upper_range,df['Kms_Driven']))\n",
    "df['Kms_Driven']"
   ]
  },
  {
   "cell_type": "code",
   "execution_count": 26,
   "id": "6e6cf9f5",
   "metadata": {},
   "outputs": [
    {
     "data": {
      "image/png": "[encoded data removed]",
      "text/plain": [
       "<Figure size 500x300 with 1 Axes>"
      ]
     },
     "metadata": {},
     "output_type": "display_data"
    }
   ],
   "source": [
    "plt.figure(figsize=(5,3))\n",
    "sns.boxplot(df['Kms_Driven'])\n",
    "plt.show()"
   ]
  },
  {
   "cell_type": "code",
   "execution_count": 27,
   "id": "fad4ddf5",
   "metadata": {},
   "outputs": [
    {
     "data": {
      "text/plain": [
       "0      14.0\n",
       "1       6.0\n",
       "2       9.0\n",
       "3      15.0\n",
       "4       9.0\n",
       "       ... \n",
       "205     9.0\n",
       "206     8.0\n",
       "207     7.0\n",
       "208    10.0\n",
       "209    10.0\n",
       "Name: Age, Length: 210, dtype: float64"
      ]
     },
     "execution_count": 27,
     "metadata": {},
     "output_type": "execute_result"
    }
   ],
   "source": [
    "#handling outlier in Age\n",
    "\n",
    "q1=df['Age'].quantile(0.25)\n",
    "q3=df['Age'].quantile(0.75)\n",
    "IQR=q3-q1\n",
    "lower_range=q1-1.5*IQR\n",
    "upper_range=q3+IQR\n",
    "df['Age']=np.where(df['Age']<lower_range,lower_range,\n",
    "                    np.where(df['Age']>upper_range,upper_range,df['Age']))\n",
    "df['Age']"
   ]
  },
  {
   "cell_type": "code",
   "execution_count": 28,
   "id": "f871f052",
   "metadata": {
    "scrolled": true
   },
   "outputs": [
    {
     "data": {
      "image/png": "[encoded data removed]",
      "text/plain": [
       "<Figure size 500x300 with 1 Axes>"
      ]
     },
     "metadata": {},
     "output_type": "display_data"
    }
   ],
   "source": [
    "plt.figure(figsize=(5,3))\n",
    "sns.boxplot(df['Age'])\n",
    "plt.show()"
   ]
  },
  {
   "cell_type": "markdown",
   "id": "9a6ecc3c",
   "metadata": {},
   "source": [
    "## Exploratory Data Analysis ( EDA )"
   ]
  },
  {
   "cell_type": "code",
   "execution_count": 29,
   "id": "70a46a4a",
   "metadata": {},
   "outputs": [
    {
     "data": {
      "image/png": "[encoded data removed]",
      "text/plain": [
       "<Figure size 1200x600 with 1 Axes>"
      ]
     },
     "metadata": {},
     "output_type": "display_data"
    }
   ],
   "source": [
    "# the variation of selling price based on brand\n",
    "plt.figure(figsize=(12,6))\n",
    "sns.barplot(x=\"Brand_Name\",y=\"Selling_Price\",data=df)\n",
    "plt.xticks(rotation = 90)\n",
    "plt.show()"
   ]
  },
  {
   "cell_type": "code",
   "execution_count": 30,
   "id": "bfc1b43b",
   "metadata": {},
   "outputs": [
    {
     "data": {
      "image/png": "[encoded data removed]",
      "text/plain": [
       "<Figure size 800x500 with 1 Axes>"
      ]
     },
     "metadata": {},
     "output_type": "display_data"
    }
   ],
   "source": [
    "# The variation of selling price based on age\n",
    "plt.figure(figsize=(8,5))\n",
    "sns.barplot(x=\"Age\",y=\"Selling_Price\",data=df)\n",
    "plt.show()"
   ]
  },
  {
   "cell_type": "code",
   "execution_count": 31,
   "id": "fbddd0e3",
   "metadata": {
    "scrolled": false
   },
   "outputs": [
    {
     "name": "stdout",
     "output_type": "stream",
     "text": [
      "Fuel_Type\n",
      "Petrol    165\n",
      "Diesel     44\n",
      "CNG         1\n",
      "Name: count, dtype: int64\n"
     ]
    },
    {
     "data": {
      "image/png": "[encoded data removed]",
      "text/plain": [
       "<Figure size 500x300 with 1 Axes>"
      ]
     },
     "metadata": {},
     "output_type": "display_data"
    }
   ],
   "source": [
    "# The count difference between the Petrol, Diesel, CNG\n",
    "print(df[\"Fuel_Type\"].value_counts())\n",
    "plt.figure(figsize=(5,3))\n",
    "sns.countplot(x=\"Fuel_Type\",data=df)\n",
    "plt.show()"
   ]
  },
  {
   "cell_type": "code",
   "execution_count": 32,
   "id": "ee934909",
   "metadata": {},
   "outputs": [
    {
     "name": "stdout",
     "output_type": "stream",
     "text": [
      "Seller_Type\n",
      "Dealer        137\n",
      "Individual     73\n",
      "Name: count, dtype: int64\n"
     ]
    },
    {
     "data": {
      "image/png": "[encoded data removed]",
      "text/plain": [
       "<Figure size 500x300 with 1 Axes>"
      ]
     },
     "metadata": {},
     "output_type": "display_data"
    }
   ],
   "source": [
    "# How many are Individual and Dealer cars?\n",
    "print(df[\"Seller_Type\"].value_counts())\n",
    "plt.figure(figsize=(5,3))\n",
    "sns.countplot(x=\"Seller_Type\",data=df)\n",
    "plt.show()"
   ]
  },
  {
   "cell_type": "code",
   "execution_count": 33,
   "id": "338b9462",
   "metadata": {},
   "outputs": [
    {
     "name": "stdout",
     "output_type": "stream",
     "text": [
      "Transmission\n",
      "Manual       180\n",
      "Automatic     30\n",
      "Name: count, dtype: int64\n"
     ]
    },
    {
     "data": {
      "image/png": "[encoded data removed]",
      "text/plain": [
       "<Figure size 500x300 with 1 Axes>"
      ]
     },
     "metadata": {},
     "output_type": "display_data"
    }
   ],
   "source": [
    "# How many are automatic and manual cars?\n",
    "print(df[\"Transmission\"].value_counts())\n",
    "plt.figure(figsize=(5,3))\n",
    "sns.countplot(x=\"Transmission\",data=df)\n",
    "plt.show()"
   ]
  },
  {
   "cell_type": "markdown",
   "id": "1bbc4585",
   "metadata": {},
   "source": [
    "## Feature Engineering"
   ]
  },
  {
   "cell_type": "code",
   "execution_count": 34,
   "id": "ea24b11a",
   "metadata": {
    "scrolled": true
   },
   "outputs": [],
   "source": [
    "# Target and labels\n",
    "\n",
    "x=df.drop('Selling_Price',axis=1).copy()\n",
    "y=df['Selling_Price'].copy()\n"
   ]
  },
  {
   "cell_type": "markdown",
   "id": "6889f9c3",
   "metadata": {},
   "source": [
    "## Train Test Split"
   ]
  },
  {
   "cell_type": "code",
   "execution_count": 35,
   "id": "209e378b",
   "metadata": {},
   "outputs": [],
   "source": [
    "x_train,x_test,y_train,y_test= train_test_split(x,y, train_size=0.7,random_state=123)"
   ]
  },
  {
   "cell_type": "code",
   "execution_count": 36,
   "id": "459070f8",
   "metadata": {},
   "outputs": [
    {
     "data": {
      "text/plain": [
       "(147, 7)"
      ]
     },
     "execution_count": 36,
     "metadata": {},
     "output_type": "execute_result"
    }
   ],
   "source": [
    "x_train.shape"
   ]
  },
  {
   "cell_type": "code",
   "execution_count": 37,
   "id": "52c2f0a2",
   "metadata": {},
   "outputs": [
    {
     "data": {
      "text/plain": [
       "(63, 7)"
      ]
     },
     "execution_count": 37,
     "metadata": {},
     "output_type": "execute_result"
    }
   ],
   "source": [
    "x_test.shape"
   ]
  },
  {
   "cell_type": "code",
   "execution_count": 38,
   "id": "cf80c4fe",
   "metadata": {},
   "outputs": [],
   "source": [
    "# Save train and test data\n",
    "x_train.to_csv('Data/Train/Evaluate/Raw/x_train.csv',index=False)\n",
    "y_train.to_csv('Data/Train/Evaluate/Raw/y_train.csv',index=False)\n",
    "\n",
    "x_test.to_csv('Data/Test/Evaluate/Raw/x_test.csv',index=False)\n",
    "y_test.to_csv('Data/Test/Evaluate/Raw/y_test.csv',index=False)"
   ]
  },
  {
   "cell_type": "markdown",
   "id": "68723ee1",
   "metadata": {},
   "source": [
    "## Feature Encoding"
   ]
  },
  {
   "cell_type": "code",
   "execution_count": 39,
   "id": "ba7829a8",
   "metadata": {},
   "outputs": [
    {
     "data": {
      "text/html": [
       "<div>\n",
       "<style scoped>\n",
       "    .dataframe tbody tr th:only-of-type {\n",
       "        vertical-align: middle;\n",
       "    }\n",
       "\n",
       "    .dataframe tbody tr th {\n",
       "        vertical-align: top;\n",
       "    }\n",
       "\n",
       "    .dataframe thead th {\n",
       "        text-align: right;\n",
       "    }\n",
       "</style>\n",
       "<table border=\"1\" class=\"dataframe\">\n",
       "  <thead>\n",
       "    <tr style=\"text-align: right;\">\n",
       "      <th></th>\n",
       "      <th>Present_Price</th>\n",
       "      <th>Kms_Driven</th>\n",
       "      <th>Fuel_Type</th>\n",
       "      <th>Seller_Type</th>\n",
       "      <th>Transmission</th>\n",
       "      <th>Brand_Name</th>\n",
       "      <th>Age</th>\n",
       "    </tr>\n",
       "  </thead>\n",
       "  <tbody>\n",
       "    <tr>\n",
       "      <th>0</th>\n",
       "      <td>79.0</td>\n",
       "      <td>90.0</td>\n",
       "      <td>2.0</td>\n",
       "      <td>0.0</td>\n",
       "      <td>1.0</td>\n",
       "      <td>18.0</td>\n",
       "      <td>5.0</td>\n",
       "    </tr>\n",
       "    <tr>\n",
       "      <th>1</th>\n",
       "      <td>19.0</td>\n",
       "      <td>14.0</td>\n",
       "      <td>2.0</td>\n",
       "      <td>1.0</td>\n",
       "      <td>1.0</td>\n",
       "      <td>7.0</td>\n",
       "      <td>1.0</td>\n",
       "    </tr>\n",
       "    <tr>\n",
       "      <th>2</th>\n",
       "      <td>48.0</td>\n",
       "      <td>105.0</td>\n",
       "      <td>1.0</td>\n",
       "      <td>0.0</td>\n",
       "      <td>1.0</td>\n",
       "      <td>24.0</td>\n",
       "      <td>3.0</td>\n",
       "    </tr>\n",
       "    <tr>\n",
       "      <th>3</th>\n",
       "      <td>42.0</td>\n",
       "      <td>55.0</td>\n",
       "      <td>2.0</td>\n",
       "      <td>0.0</td>\n",
       "      <td>1.0</td>\n",
       "      <td>26.0</td>\n",
       "      <td>2.0</td>\n",
       "    </tr>\n",
       "    <tr>\n",
       "      <th>4</th>\n",
       "      <td>45.0</td>\n",
       "      <td>12.0</td>\n",
       "      <td>2.0</td>\n",
       "      <td>0.0</td>\n",
       "      <td>1.0</td>\n",
       "      <td>14.0</td>\n",
       "      <td>1.0</td>\n",
       "    </tr>\n",
       "    <tr>\n",
       "      <th>...</th>\n",
       "      <td>...</td>\n",
       "      <td>...</td>\n",
       "      <td>...</td>\n",
       "      <td>...</td>\n",
       "      <td>...</td>\n",
       "      <td>...</td>\n",
       "      <td>...</td>\n",
       "    </tr>\n",
       "    <tr>\n",
       "      <th>142</th>\n",
       "      <td>18.0</td>\n",
       "      <td>30.0</td>\n",
       "      <td>2.0</td>\n",
       "      <td>1.0</td>\n",
       "      <td>1.0</td>\n",
       "      <td>2.0</td>\n",
       "      <td>5.0</td>\n",
       "    </tr>\n",
       "    <tr>\n",
       "      <th>143</th>\n",
       "      <td>18.0</td>\n",
       "      <td>80.0</td>\n",
       "      <td>2.0</td>\n",
       "      <td>1.0</td>\n",
       "      <td>1.0</td>\n",
       "      <td>2.0</td>\n",
       "      <td>4.0</td>\n",
       "    </tr>\n",
       "    <tr>\n",
       "      <th>144</th>\n",
       "      <td>1.0</td>\n",
       "      <td>59.0</td>\n",
       "      <td>2.0</td>\n",
       "      <td>1.0</td>\n",
       "      <td>1.0</td>\n",
       "      <td>4.0</td>\n",
       "      <td>4.0</td>\n",
       "    </tr>\n",
       "    <tr>\n",
       "      <th>145</th>\n",
       "      <td>60.0</td>\n",
       "      <td>75.0</td>\n",
       "      <td>1.0</td>\n",
       "      <td>0.0</td>\n",
       "      <td>1.0</td>\n",
       "      <td>16.0</td>\n",
       "      <td>2.0</td>\n",
       "    </tr>\n",
       "    <tr>\n",
       "      <th>146</th>\n",
       "      <td>7.0</td>\n",
       "      <td>49.0</td>\n",
       "      <td>2.0</td>\n",
       "      <td>1.0</td>\n",
       "      <td>1.0</td>\n",
       "      <td>3.0</td>\n",
       "      <td>4.0</td>\n",
       "    </tr>\n",
       "  </tbody>\n",
       "</table>\n",
       "<p>147 rows × 7 columns</p>\n",
       "</div>"
      ],
      "text/plain": [
       "     Present_Price  Kms_Driven  Fuel_Type  Seller_Type  Transmission   \n",
       "0             79.0        90.0        2.0          0.0           1.0  \\\n",
       "1             19.0        14.0        2.0          1.0           1.0   \n",
       "2             48.0       105.0        1.0          0.0           1.0   \n",
       "3             42.0        55.0        2.0          0.0           1.0   \n",
       "4             45.0        12.0        2.0          0.0           1.0   \n",
       "..             ...         ...        ...          ...           ...   \n",
       "142           18.0        30.0        2.0          1.0           1.0   \n",
       "143           18.0        80.0        2.0          1.0           1.0   \n",
       "144            1.0        59.0        2.0          1.0           1.0   \n",
       "145           60.0        75.0        1.0          0.0           1.0   \n",
       "146            7.0        49.0        2.0          1.0           1.0   \n",
       "\n",
       "     Brand_Name  Age  \n",
       "0          18.0  5.0  \n",
       "1           7.0  1.0  \n",
       "2          24.0  3.0  \n",
       "3          26.0  2.0  \n",
       "4          14.0  1.0  \n",
       "..          ...  ...  \n",
       "142         2.0  5.0  \n",
       "143         2.0  4.0  \n",
       "144         4.0  4.0  \n",
       "145        16.0  2.0  \n",
       "146         3.0  4.0  \n",
       "\n",
       "[147 rows x 7 columns]"
      ]
     },
     "execution_count": 39,
     "metadata": {},
     "output_type": "execute_result"
    }
   ],
   "source": [
    "# x_encoder\n",
    "encoder=OrdinalEncoder()\n",
    "x_encode=encoder.fit(x_train)\n",
    "jb.dump(x_encode,'Data/Train/Model/train_encode_model.pkl')\n",
    "x_encode=encoder.transform(x_train)\n",
    "x_train_encode=pd.DataFrame(x_encode,columns=x_train.columns)\n",
    "x_train_encode"
   ]
  },
  {
   "cell_type": "code",
   "execution_count": 40,
   "id": "0b19a457",
   "metadata": {},
   "outputs": [
    {
     "data": {
      "text/html": [
       "<div>\n",
       "<style scoped>\n",
       "    .dataframe tbody tr th:only-of-type {\n",
       "        vertical-align: middle;\n",
       "    }\n",
       "\n",
       "    .dataframe tbody tr th {\n",
       "        vertical-align: top;\n",
       "    }\n",
       "\n",
       "    .dataframe thead th {\n",
       "        text-align: right;\n",
       "    }\n",
       "</style>\n",
       "<table border=\"1\" class=\"dataframe\">\n",
       "  <thead>\n",
       "    <tr style=\"text-align: right;\">\n",
       "      <th></th>\n",
       "      <th>0</th>\n",
       "    </tr>\n",
       "  </thead>\n",
       "  <tbody>\n",
       "    <tr>\n",
       "      <th>0</th>\n",
       "      <td>67</td>\n",
       "    </tr>\n",
       "    <tr>\n",
       "      <th>1</th>\n",
       "      <td>19</td>\n",
       "    </tr>\n",
       "    <tr>\n",
       "      <th>2</th>\n",
       "      <td>48</td>\n",
       "    </tr>\n",
       "    <tr>\n",
       "      <th>3</th>\n",
       "      <td>51</td>\n",
       "    </tr>\n",
       "    <tr>\n",
       "      <th>4</th>\n",
       "      <td>63</td>\n",
       "    </tr>\n",
       "    <tr>\n",
       "      <th>...</th>\n",
       "      <td>...</td>\n",
       "    </tr>\n",
       "    <tr>\n",
       "      <th>142</th>\n",
       "      <td>8</td>\n",
       "    </tr>\n",
       "    <tr>\n",
       "      <th>143</th>\n",
       "      <td>10</td>\n",
       "    </tr>\n",
       "    <tr>\n",
       "      <th>144</th>\n",
       "      <td>3</td>\n",
       "    </tr>\n",
       "    <tr>\n",
       "      <th>145</th>\n",
       "      <td>76</td>\n",
       "    </tr>\n",
       "    <tr>\n",
       "      <th>146</th>\n",
       "      <td>2</td>\n",
       "    </tr>\n",
       "  </tbody>\n",
       "</table>\n",
       "<p>147 rows × 1 columns</p>\n",
       "</div>"
      ],
      "text/plain": [
       "      0\n",
       "0    67\n",
       "1    19\n",
       "2    48\n",
       "3    51\n",
       "4    63\n",
       "..   ..\n",
       "142   8\n",
       "143  10\n",
       "144   3\n",
       "145  76\n",
       "146   2\n",
       "\n",
       "[147 rows x 1 columns]"
      ]
     },
     "execution_count": 40,
     "metadata": {},
     "output_type": "execute_result"
    }
   ],
   "source": [
    "# y_train_encoder\n",
    "encoder=LabelEncoder()\n",
    "y_encode=encoder.fit(y_train)\n",
    "jb.dump(y_encode,'Data/Train/Model/y_train_encode_model.pkl')\n",
    "y_encode=encoder.transform(y_train)\n",
    "y_train_encode=pd.DataFrame(y_encode)\n",
    "y_train_encode"
   ]
  },
  {
   "cell_type": "code",
   "execution_count": 41,
   "id": "5ef369e6",
   "metadata": {},
   "outputs": [],
   "source": [
    "# x_encoder\n",
    "encoder=OrdinalEncoder()\n",
    "x_test_encode=encoder.fit(x_test)\n",
    "jb.dump(x_test_encode,'Data/Test/Model/x_test_encode_model.pkl')\n",
    "x_encode=encoder.transform(x_test)\n",
    "x_test_encode=pd.DataFrame(x_encode,columns=x_test.columns)"
   ]
  },
  {
   "cell_type": "code",
   "execution_count": 42,
   "id": "99372873",
   "metadata": {
    "scrolled": false
   },
   "outputs": [
    {
     "data": {
      "text/html": [
       "<div>\n",
       "<style scoped>\n",
       "    .dataframe tbody tr th:only-of-type {\n",
       "        vertical-align: middle;\n",
       "    }\n",
       "\n",
       "    .dataframe tbody tr th {\n",
       "        vertical-align: top;\n",
       "    }\n",
       "\n",
       "    .dataframe thead th {\n",
       "        text-align: right;\n",
       "    }\n",
       "</style>\n",
       "<table border=\"1\" class=\"dataframe\">\n",
       "  <thead>\n",
       "    <tr style=\"text-align: right;\">\n",
       "      <th></th>\n",
       "      <th>Present_Price</th>\n",
       "      <th>Kms_Driven</th>\n",
       "      <th>Fuel_Type</th>\n",
       "      <th>Seller_Type</th>\n",
       "      <th>Transmission</th>\n",
       "      <th>Brand_Name</th>\n",
       "      <th>Age</th>\n",
       "    </tr>\n",
       "  </thead>\n",
       "  <tbody>\n",
       "    <tr>\n",
       "      <th>0</th>\n",
       "      <td>5.0</td>\n",
       "      <td>14.0</td>\n",
       "      <td>1.0</td>\n",
       "      <td>1.0</td>\n",
       "      <td>1.0</td>\n",
       "      <td>1.0</td>\n",
       "      <td>3.0</td>\n",
       "    </tr>\n",
       "    <tr>\n",
       "      <th>1</th>\n",
       "      <td>44.0</td>\n",
       "      <td>55.0</td>\n",
       "      <td>1.0</td>\n",
       "      <td>0.0</td>\n",
       "      <td>1.0</td>\n",
       "      <td>12.0</td>\n",
       "      <td>4.0</td>\n",
       "    </tr>\n",
       "    <tr>\n",
       "      <th>2</th>\n",
       "      <td>45.0</td>\n",
       "      <td>47.0</td>\n",
       "      <td>0.0</td>\n",
       "      <td>0.0</td>\n",
       "      <td>1.0</td>\n",
       "      <td>17.0</td>\n",
       "      <td>7.0</td>\n",
       "    </tr>\n",
       "    <tr>\n",
       "      <th>3</th>\n",
       "      <td>42.0</td>\n",
       "      <td>37.0</td>\n",
       "      <td>1.0</td>\n",
       "      <td>0.0</td>\n",
       "      <td>1.0</td>\n",
       "      <td>11.0</td>\n",
       "      <td>2.0</td>\n",
       "    </tr>\n",
       "    <tr>\n",
       "      <th>4</th>\n",
       "      <td>33.0</td>\n",
       "      <td>3.0</td>\n",
       "      <td>1.0</td>\n",
       "      <td>0.0</td>\n",
       "      <td>1.0</td>\n",
       "      <td>20.0</td>\n",
       "      <td>0.0</td>\n",
       "    </tr>\n",
       "    <tr>\n",
       "      <th>...</th>\n",
       "      <td>...</td>\n",
       "      <td>...</td>\n",
       "      <td>...</td>\n",
       "      <td>...</td>\n",
       "      <td>...</td>\n",
       "      <td>...</td>\n",
       "      <td>...</td>\n",
       "    </tr>\n",
       "    <tr>\n",
       "      <th>58</th>\n",
       "      <td>6.0</td>\n",
       "      <td>19.0</td>\n",
       "      <td>1.0</td>\n",
       "      <td>1.0</td>\n",
       "      <td>1.0</td>\n",
       "      <td>7.0</td>\n",
       "      <td>5.0</td>\n",
       "    </tr>\n",
       "    <tr>\n",
       "      <th>59</th>\n",
       "      <td>20.0</td>\n",
       "      <td>20.0</td>\n",
       "      <td>0.0</td>\n",
       "      <td>0.0</td>\n",
       "      <td>1.0</td>\n",
       "      <td>18.0</td>\n",
       "      <td>2.0</td>\n",
       "    </tr>\n",
       "    <tr>\n",
       "      <th>60</th>\n",
       "      <td>3.0</td>\n",
       "      <td>24.0</td>\n",
       "      <td>1.0</td>\n",
       "      <td>1.0</td>\n",
       "      <td>1.0</td>\n",
       "      <td>0.0</td>\n",
       "      <td>5.0</td>\n",
       "    </tr>\n",
       "    <tr>\n",
       "      <th>61</th>\n",
       "      <td>4.0</td>\n",
       "      <td>1.0</td>\n",
       "      <td>1.0</td>\n",
       "      <td>1.0</td>\n",
       "      <td>0.0</td>\n",
       "      <td>6.0</td>\n",
       "      <td>9.0</td>\n",
       "    </tr>\n",
       "    <tr>\n",
       "      <th>62</th>\n",
       "      <td>45.0</td>\n",
       "      <td>52.0</td>\n",
       "      <td>0.0</td>\n",
       "      <td>0.0</td>\n",
       "      <td>1.0</td>\n",
       "      <td>17.0</td>\n",
       "      <td>7.0</td>\n",
       "    </tr>\n",
       "  </tbody>\n",
       "</table>\n",
       "<p>63 rows × 7 columns</p>\n",
       "</div>"
      ],
      "text/plain": [
       "    Present_Price  Kms_Driven  Fuel_Type  Seller_Type  Transmission   \n",
       "0             5.0        14.0        1.0          1.0           1.0  \\\n",
       "1            44.0        55.0        1.0          0.0           1.0   \n",
       "2            45.0        47.0        0.0          0.0           1.0   \n",
       "3            42.0        37.0        1.0          0.0           1.0   \n",
       "4            33.0         3.0        1.0          0.0           1.0   \n",
       "..            ...         ...        ...          ...           ...   \n",
       "58            6.0        19.0        1.0          1.0           1.0   \n",
       "59           20.0        20.0        0.0          0.0           1.0   \n",
       "60            3.0        24.0        1.0          1.0           1.0   \n",
       "61            4.0         1.0        1.0          1.0           0.0   \n",
       "62           45.0        52.0        0.0          0.0           1.0   \n",
       "\n",
       "    Brand_Name  Age  \n",
       "0          1.0  3.0  \n",
       "1         12.0  4.0  \n",
       "2         17.0  7.0  \n",
       "3         11.0  2.0  \n",
       "4         20.0  0.0  \n",
       "..         ...  ...  \n",
       "58         7.0  5.0  \n",
       "59        18.0  2.0  \n",
       "60         0.0  5.0  \n",
       "61         6.0  9.0  \n",
       "62        17.0  7.0  \n",
       "\n",
       "[63 rows x 7 columns]"
      ]
     },
     "execution_count": 42,
     "metadata": {},
     "output_type": "execute_result"
    }
   ],
   "source": [
    "x_test_encode"
   ]
  },
  {
   "cell_type": "code",
   "execution_count": 43,
   "id": "7bcfd041",
   "metadata": {},
   "outputs": [
    {
     "data": {
      "text/html": [
       "<div>\n",
       "<style scoped>\n",
       "    .dataframe tbody tr th:only-of-type {\n",
       "        vertical-align: middle;\n",
       "    }\n",
       "\n",
       "    .dataframe tbody tr th {\n",
       "        vertical-align: top;\n",
       "    }\n",
       "\n",
       "    .dataframe thead th {\n",
       "        text-align: right;\n",
       "    }\n",
       "</style>\n",
       "<table border=\"1\" class=\"dataframe\">\n",
       "  <thead>\n",
       "    <tr style=\"text-align: right;\">\n",
       "      <th></th>\n",
       "      <th>0</th>\n",
       "    </tr>\n",
       "  </thead>\n",
       "  <tbody>\n",
       "    <tr>\n",
       "      <th>0</th>\n",
       "      <td>7</td>\n",
       "    </tr>\n",
       "    <tr>\n",
       "      <th>1</th>\n",
       "      <td>32</td>\n",
       "    </tr>\n",
       "    <tr>\n",
       "      <th>2</th>\n",
       "      <td>47</td>\n",
       "    </tr>\n",
       "    <tr>\n",
       "      <th>3</th>\n",
       "      <td>44</td>\n",
       "    </tr>\n",
       "    <tr>\n",
       "      <th>4</th>\n",
       "      <td>42</td>\n",
       "    </tr>\n",
       "    <tr>\n",
       "      <th>...</th>\n",
       "      <td>...</td>\n",
       "    </tr>\n",
       "    <tr>\n",
       "      <th>58</th>\n",
       "      <td>8</td>\n",
       "    </tr>\n",
       "    <tr>\n",
       "      <th>59</th>\n",
       "      <td>27</td>\n",
       "    </tr>\n",
       "    <tr>\n",
       "      <th>60</th>\n",
       "      <td>1</td>\n",
       "    </tr>\n",
       "    <tr>\n",
       "      <th>61</th>\n",
       "      <td>2</td>\n",
       "    </tr>\n",
       "    <tr>\n",
       "      <th>62</th>\n",
       "      <td>46</td>\n",
       "    </tr>\n",
       "  </tbody>\n",
       "</table>\n",
       "<p>63 rows × 1 columns</p>\n",
       "</div>"
      ],
      "text/plain": [
       "     0\n",
       "0    7\n",
       "1   32\n",
       "2   47\n",
       "3   44\n",
       "4   42\n",
       "..  ..\n",
       "58   8\n",
       "59  27\n",
       "60   1\n",
       "61   2\n",
       "62  46\n",
       "\n",
       "[63 rows x 1 columns]"
      ]
     },
     "execution_count": 43,
     "metadata": {},
     "output_type": "execute_result"
    }
   ],
   "source": [
    "# y_test_encoder\n",
    "encoder=LabelEncoder()\n",
    "y_encode=encoder.fit(y_test)\n",
    "jb.dump(y_encode,'Data/Test/Model/y_test_encode_model.pkl')\n",
    "y_encode=encoder.transform(y_test)\n",
    "y_test_encode=pd.DataFrame(y_encode)\n",
    "y_test_encode"
   ]
  },
  {
   "cell_type": "code",
   "execution_count": 44,
   "id": "d9ff9ddb",
   "metadata": {},
   "outputs": [],
   "source": [
    "x_train_encode.to_csv('Data/Train/Processed/x_train_encode.csv',index=False)\n",
    "y_train_encode.to_csv('Data/Train/Processed/y_train.csv',index=False)\n",
    "\n",
    "x_test_encode.to_csv('Data/Test/Processed/x_test_processed.csv',index=False)\n",
    "y_test_encode.to_csv('Data/Test/Processed/y_test_processed.csv',index=False)"
   ]
  },
  {
   "cell_type": "code",
   "execution_count": 45,
   "id": "df6021d4",
   "metadata": {
    "scrolled": false
   },
   "outputs": [
    {
     "data": {
      "text/plain": [
       "<Axes: >"
      ]
     },
     "execution_count": 45,
     "metadata": {},
     "output_type": "execute_result"
    },
    {
     "data": {
      "image/png": "[encoded data removed]",
      "text/plain": [
       "<Figure size 800x500 with 2 Axes>"
      ]
     },
     "metadata": {},
     "output_type": "display_data"
    }
   ],
   "source": [
    "plt.figure(figsize=(8,5))\n",
    "sns.heatmap(x_train_encode.corr(),annot=True)"
   ]
  },
  {
   "cell_type": "markdown",
   "id": "3a9870ed",
   "metadata": {},
   "source": [
    "## Feature selection"
   ]
  },
  {
   "cell_type": "code",
   "execution_count": 46,
   "id": "c26785b8",
   "metadata": {},
   "outputs": [],
   "source": [
    "from sklearn.feature_selection import SelectKBest\n",
    "from sklearn.feature_selection import chi2\n",
    "bestfeatures = SelectKBest(score_func=chi2, k=7)\n",
    "fit = bestfeatures.fit(x_train_encode,y_train_encode)"
   ]
  },
  {
   "cell_type": "code",
   "execution_count": 47,
   "id": "882d8281",
   "metadata": {},
   "outputs": [
    {
     "name": "stdout",
     "output_type": "stream",
     "text": [
      "           Specs        Score\n",
      "0  Present_Price  2135.381402\n",
      "1     Kms_Driven  1909.586501\n",
      "5     Brand_Name   881.739057\n",
      "6            Age   208.539352\n",
      "3    Seller_Type    89.007547\n",
      "2      Fuel_Type    13.003167\n",
      "4   Transmission    12.585176\n"
     ]
    }
   ],
   "source": [
    "dfscores = pd.DataFrame(fit.scores_)\n",
    "dfcolumns = pd.DataFrame(x.columns)\n",
    "#concat two dataframes for better visualization \n",
    "featureScores = pd.concat([dfcolumns,dfscores],axis=1)\n",
    "featureScores.columns = ['Specs','Score']  #naming the dataframe columns\n",
    "print(featureScores.nlargest(10,'Score'))  #print 10 best features"
   ]
  },
  {
   "cell_type": "code",
   "execution_count": 48,
   "id": "068e5b10",
   "metadata": {},
   "outputs": [
    {
     "data": {
      "text/html": [
       "<div>\n",
       "<style scoped>\n",
       "    .dataframe tbody tr th:only-of-type {\n",
       "        vertical-align: middle;\n",
       "    }\n",
       "\n",
       "    .dataframe tbody tr th {\n",
       "        vertical-align: top;\n",
       "    }\n",
       "\n",
       "    .dataframe thead th {\n",
       "        text-align: right;\n",
       "    }\n",
       "</style>\n",
       "<table border=\"1\" class=\"dataframe\">\n",
       "  <thead>\n",
       "    <tr style=\"text-align: right;\">\n",
       "      <th></th>\n",
       "      <th>Specs</th>\n",
       "      <th>Score</th>\n",
       "    </tr>\n",
       "  </thead>\n",
       "  <tbody>\n",
       "    <tr>\n",
       "      <th>0</th>\n",
       "      <td>Present_Price</td>\n",
       "      <td>2135.381402</td>\n",
       "    </tr>\n",
       "    <tr>\n",
       "      <th>1</th>\n",
       "      <td>Kms_Driven</td>\n",
       "      <td>1909.586501</td>\n",
       "    </tr>\n",
       "    <tr>\n",
       "      <th>5</th>\n",
       "      <td>Brand_Name</td>\n",
       "      <td>881.739057</td>\n",
       "    </tr>\n",
       "    <tr>\n",
       "      <th>6</th>\n",
       "      <td>Age</td>\n",
       "      <td>208.539352</td>\n",
       "    </tr>\n",
       "    <tr>\n",
       "      <th>3</th>\n",
       "      <td>Seller_Type</td>\n",
       "      <td>89.007547</td>\n",
       "    </tr>\n",
       "    <tr>\n",
       "      <th>2</th>\n",
       "      <td>Fuel_Type</td>\n",
       "      <td>13.003167</td>\n",
       "    </tr>\n",
       "    <tr>\n",
       "      <th>4</th>\n",
       "      <td>Transmission</td>\n",
       "      <td>12.585176</td>\n",
       "    </tr>\n",
       "  </tbody>\n",
       "</table>\n",
       "</div>"
      ],
      "text/plain": [
       "           Specs        Score\n",
       "0  Present_Price  2135.381402\n",
       "1     Kms_Driven  1909.586501\n",
       "5     Brand_Name   881.739057\n",
       "6            Age   208.539352\n",
       "3    Seller_Type    89.007547\n",
       "2      Fuel_Type    13.003167\n",
       "4   Transmission    12.585176"
      ]
     },
     "execution_count": 48,
     "metadata": {},
     "output_type": "execute_result"
    }
   ],
   "source": [
    "feature=featureScores.nlargest(10,'Score')\n",
    "feature"
   ]
  },
  {
   "cell_type": "code",
   "execution_count": 49,
   "id": "1f297db4",
   "metadata": {},
   "outputs": [
    {
     "data": {
      "text/plain": [
       "['Present_Price',\n",
       " 'Kms_Driven',\n",
       " 'Brand_Name',\n",
       " 'Age',\n",
       " 'Seller_Type',\n",
       " 'Fuel_Type',\n",
       " 'Transmission']"
      ]
     },
     "execution_count": 49,
     "metadata": {},
     "output_type": "execute_result"
    }
   ],
   "source": [
    "feature_list=feature['Specs'].to_list()\n",
    "feature_list"
   ]
  },
  {
   "cell_type": "code",
   "execution_count": 50,
   "id": "885be483",
   "metadata": {},
   "outputs": [
    {
     "data": {
      "text/plain": [
       "['Data/Train/Model/featureselected_model.pkl']"
      ]
     },
     "execution_count": 50,
     "metadata": {},
     "output_type": "execute_result"
    }
   ],
   "source": [
    "import joblib as jb\n",
    "jb.dump(feature_list,'Data/Train/Model/featureselected_model.pkl')"
   ]
  },
  {
   "cell_type": "code",
   "execution_count": 51,
   "id": "bf9f3ade",
   "metadata": {},
   "outputs": [
    {
     "data": {
      "text/html": [
       "<div>\n",
       "<style scoped>\n",
       "    .dataframe tbody tr th:only-of-type {\n",
       "        vertical-align: middle;\n",
       "    }\n",
       "\n",
       "    .dataframe tbody tr th {\n",
       "        vertical-align: top;\n",
       "    }\n",
       "\n",
       "    .dataframe thead th {\n",
       "        text-align: right;\n",
       "    }\n",
       "</style>\n",
       "<table border=\"1\" class=\"dataframe\">\n",
       "  <thead>\n",
       "    <tr style=\"text-align: right;\">\n",
       "      <th></th>\n",
       "      <th>Present_Price</th>\n",
       "      <th>Kms_Driven</th>\n",
       "      <th>Brand_Name</th>\n",
       "      <th>Age</th>\n",
       "      <th>Seller_Type</th>\n",
       "      <th>Fuel_Type</th>\n",
       "      <th>Transmission</th>\n",
       "    </tr>\n",
       "  </thead>\n",
       "  <tbody>\n",
       "    <tr>\n",
       "      <th>0</th>\n",
       "      <td>79.0</td>\n",
       "      <td>90.0</td>\n",
       "      <td>18.0</td>\n",
       "      <td>5.0</td>\n",
       "      <td>0.0</td>\n",
       "      <td>2.0</td>\n",
       "      <td>1.0</td>\n",
       "    </tr>\n",
       "    <tr>\n",
       "      <th>1</th>\n",
       "      <td>19.0</td>\n",
       "      <td>14.0</td>\n",
       "      <td>7.0</td>\n",
       "      <td>1.0</td>\n",
       "      <td>1.0</td>\n",
       "      <td>2.0</td>\n",
       "      <td>1.0</td>\n",
       "    </tr>\n",
       "    <tr>\n",
       "      <th>2</th>\n",
       "      <td>48.0</td>\n",
       "      <td>105.0</td>\n",
       "      <td>24.0</td>\n",
       "      <td>3.0</td>\n",
       "      <td>0.0</td>\n",
       "      <td>1.0</td>\n",
       "      <td>1.0</td>\n",
       "    </tr>\n",
       "    <tr>\n",
       "      <th>3</th>\n",
       "      <td>42.0</td>\n",
       "      <td>55.0</td>\n",
       "      <td>26.0</td>\n",
       "      <td>2.0</td>\n",
       "      <td>0.0</td>\n",
       "      <td>2.0</td>\n",
       "      <td>1.0</td>\n",
       "    </tr>\n",
       "    <tr>\n",
       "      <th>4</th>\n",
       "      <td>45.0</td>\n",
       "      <td>12.0</td>\n",
       "      <td>14.0</td>\n",
       "      <td>1.0</td>\n",
       "      <td>0.0</td>\n",
       "      <td>2.0</td>\n",
       "      <td>1.0</td>\n",
       "    </tr>\n",
       "    <tr>\n",
       "      <th>...</th>\n",
       "      <td>...</td>\n",
       "      <td>...</td>\n",
       "      <td>...</td>\n",
       "      <td>...</td>\n",
       "      <td>...</td>\n",
       "      <td>...</td>\n",
       "      <td>...</td>\n",
       "    </tr>\n",
       "    <tr>\n",
       "      <th>142</th>\n",
       "      <td>18.0</td>\n",
       "      <td>30.0</td>\n",
       "      <td>2.0</td>\n",
       "      <td>5.0</td>\n",
       "      <td>1.0</td>\n",
       "      <td>2.0</td>\n",
       "      <td>1.0</td>\n",
       "    </tr>\n",
       "    <tr>\n",
       "      <th>143</th>\n",
       "      <td>18.0</td>\n",
       "      <td>80.0</td>\n",
       "      <td>2.0</td>\n",
       "      <td>4.0</td>\n",
       "      <td>1.0</td>\n",
       "      <td>2.0</td>\n",
       "      <td>1.0</td>\n",
       "    </tr>\n",
       "    <tr>\n",
       "      <th>144</th>\n",
       "      <td>1.0</td>\n",
       "      <td>59.0</td>\n",
       "      <td>4.0</td>\n",
       "      <td>4.0</td>\n",
       "      <td>1.0</td>\n",
       "      <td>2.0</td>\n",
       "      <td>1.0</td>\n",
       "    </tr>\n",
       "    <tr>\n",
       "      <th>145</th>\n",
       "      <td>60.0</td>\n",
       "      <td>75.0</td>\n",
       "      <td>16.0</td>\n",
       "      <td>2.0</td>\n",
       "      <td>0.0</td>\n",
       "      <td>1.0</td>\n",
       "      <td>1.0</td>\n",
       "    </tr>\n",
       "    <tr>\n",
       "      <th>146</th>\n",
       "      <td>7.0</td>\n",
       "      <td>49.0</td>\n",
       "      <td>3.0</td>\n",
       "      <td>4.0</td>\n",
       "      <td>1.0</td>\n",
       "      <td>2.0</td>\n",
       "      <td>1.0</td>\n",
       "    </tr>\n",
       "  </tbody>\n",
       "</table>\n",
       "<p>147 rows × 7 columns</p>\n",
       "</div>"
      ],
      "text/plain": [
       "     Present_Price  Kms_Driven  Brand_Name  Age  Seller_Type  Fuel_Type   \n",
       "0             79.0        90.0        18.0  5.0          0.0        2.0  \\\n",
       "1             19.0        14.0         7.0  1.0          1.0        2.0   \n",
       "2             48.0       105.0        24.0  3.0          0.0        1.0   \n",
       "3             42.0        55.0        26.0  2.0          0.0        2.0   \n",
       "4             45.0        12.0        14.0  1.0          0.0        2.0   \n",
       "..             ...         ...         ...  ...          ...        ...   \n",
       "142           18.0        30.0         2.0  5.0          1.0        2.0   \n",
       "143           18.0        80.0         2.0  4.0          1.0        2.0   \n",
       "144            1.0        59.0         4.0  4.0          1.0        2.0   \n",
       "145           60.0        75.0        16.0  2.0          0.0        1.0   \n",
       "146            7.0        49.0         3.0  4.0          1.0        2.0   \n",
       "\n",
       "     Transmission  \n",
       "0             1.0  \n",
       "1             1.0  \n",
       "2             1.0  \n",
       "3             1.0  \n",
       "4             1.0  \n",
       "..            ...  \n",
       "142           1.0  \n",
       "143           1.0  \n",
       "144           1.0  \n",
       "145           1.0  \n",
       "146           1.0  \n",
       "\n",
       "[147 rows x 7 columns]"
      ]
     },
     "execution_count": 51,
     "metadata": {},
     "output_type": "execute_result"
    }
   ],
   "source": [
    "featuer_selected=x_train_encode[feature_list]\n",
    "featuer_selected"
   ]
  },
  {
   "cell_type": "code",
   "execution_count": 52,
   "id": "48184331",
   "metadata": {},
   "outputs": [],
   "source": [
    "featuer_selected.to_csv('Data/Train/Processed/featureSelected_X_train_encode.csv',index=False)"
   ]
  },
  {
   "cell_type": "markdown",
   "id": "58ca0454",
   "metadata": {},
   "source": [
    "## Model Training"
   ]
  },
  {
   "cell_type": "code",
   "execution_count": 53,
   "id": "5dcb447a",
   "metadata": {},
   "outputs": [
    {
     "name": "stdout",
     "output_type": "stream",
     "text": [
      "Model score : 93.61962350393168\n"
     ]
    }
   ],
   "source": [
    "model=LinearRegression()\n",
    "model.fit(featuer_selected,y_train_encode)\n",
    "print('Model score :',model.score(featuer_selected,y_train_encode)*100)"
   ]
  },
  {
   "cell_type": "code",
   "execution_count": 54,
   "id": "b0e70fa5",
   "metadata": {},
   "outputs": [
    {
     "data": {
      "text/plain": [
       "['Data/Train/model/lor.pkl']"
      ]
     },
     "execution_count": 54,
     "metadata": {},
     "output_type": "execute_result"
    }
   ],
   "source": [
    "jb.dump(model,'Data/Train/model/lor.pkl')"
   ]
  },
  {
   "cell_type": "markdown",
   "id": "b5b73faf",
   "metadata": {},
   "source": [
    "## Prediction"
   ]
  },
  {
   "cell_type": "code",
   "execution_count": 55,
   "id": "845e661f",
   "metadata": {},
   "outputs": [],
   "source": [
    "Feature_selection =jb.load('Data/Train/Model/featureselected_model.pkl')\n",
    "encode_model =jb.load('Data/Train/Model/train_encode_model.pkl')\n",
    "model=jb.load('Data/Train/model/lor.pkl')"
   ]
  },
  {
   "cell_type": "code",
   "execution_count": 56,
   "id": "5d5dbbe5",
   "metadata": {},
   "outputs": [
    {
     "data": {
      "text/html": [
       "<div>\n",
       "<style scoped>\n",
       "    .dataframe tbody tr th:only-of-type {\n",
       "        vertical-align: middle;\n",
       "    }\n",
       "\n",
       "    .dataframe tbody tr th {\n",
       "        vertical-align: top;\n",
       "    }\n",
       "\n",
       "    .dataframe thead th {\n",
       "        text-align: right;\n",
       "    }\n",
       "</style>\n",
       "<table border=\"1\" class=\"dataframe\">\n",
       "  <thead>\n",
       "    <tr style=\"text-align: right;\">\n",
       "      <th></th>\n",
       "      <th>Present_Price</th>\n",
       "      <th>Kms_Driven</th>\n",
       "      <th>Brand_Name</th>\n",
       "      <th>Age</th>\n",
       "      <th>Seller_Type</th>\n",
       "      <th>Fuel_Type</th>\n",
       "      <th>Transmission</th>\n",
       "    </tr>\n",
       "  </thead>\n",
       "  <tbody>\n",
       "    <tr>\n",
       "      <th>0</th>\n",
       "      <td>5.0</td>\n",
       "      <td>14.0</td>\n",
       "      <td>1.0</td>\n",
       "      <td>3.0</td>\n",
       "      <td>1.0</td>\n",
       "      <td>1.0</td>\n",
       "      <td>1.0</td>\n",
       "    </tr>\n",
       "    <tr>\n",
       "      <th>1</th>\n",
       "      <td>44.0</td>\n",
       "      <td>55.0</td>\n",
       "      <td>12.0</td>\n",
       "      <td>4.0</td>\n",
       "      <td>0.0</td>\n",
       "      <td>1.0</td>\n",
       "      <td>1.0</td>\n",
       "    </tr>\n",
       "    <tr>\n",
       "      <th>2</th>\n",
       "      <td>45.0</td>\n",
       "      <td>47.0</td>\n",
       "      <td>17.0</td>\n",
       "      <td>7.0</td>\n",
       "      <td>0.0</td>\n",
       "      <td>0.0</td>\n",
       "      <td>1.0</td>\n",
       "    </tr>\n",
       "    <tr>\n",
       "      <th>3</th>\n",
       "      <td>42.0</td>\n",
       "      <td>37.0</td>\n",
       "      <td>11.0</td>\n",
       "      <td>2.0</td>\n",
       "      <td>0.0</td>\n",
       "      <td>1.0</td>\n",
       "      <td>1.0</td>\n",
       "    </tr>\n",
       "    <tr>\n",
       "      <th>4</th>\n",
       "      <td>33.0</td>\n",
       "      <td>3.0</td>\n",
       "      <td>20.0</td>\n",
       "      <td>0.0</td>\n",
       "      <td>0.0</td>\n",
       "      <td>1.0</td>\n",
       "      <td>1.0</td>\n",
       "    </tr>\n",
       "    <tr>\n",
       "      <th>...</th>\n",
       "      <td>...</td>\n",
       "      <td>...</td>\n",
       "      <td>...</td>\n",
       "      <td>...</td>\n",
       "      <td>...</td>\n",
       "      <td>...</td>\n",
       "      <td>...</td>\n",
       "    </tr>\n",
       "    <tr>\n",
       "      <th>58</th>\n",
       "      <td>6.0</td>\n",
       "      <td>19.0</td>\n",
       "      <td>7.0</td>\n",
       "      <td>5.0</td>\n",
       "      <td>1.0</td>\n",
       "      <td>1.0</td>\n",
       "      <td>1.0</td>\n",
       "    </tr>\n",
       "    <tr>\n",
       "      <th>59</th>\n",
       "      <td>20.0</td>\n",
       "      <td>20.0</td>\n",
       "      <td>18.0</td>\n",
       "      <td>2.0</td>\n",
       "      <td>0.0</td>\n",
       "      <td>0.0</td>\n",
       "      <td>1.0</td>\n",
       "    </tr>\n",
       "    <tr>\n",
       "      <th>60</th>\n",
       "      <td>3.0</td>\n",
       "      <td>24.0</td>\n",
       "      <td>0.0</td>\n",
       "      <td>5.0</td>\n",
       "      <td>1.0</td>\n",
       "      <td>1.0</td>\n",
       "      <td>1.0</td>\n",
       "    </tr>\n",
       "    <tr>\n",
       "      <th>61</th>\n",
       "      <td>4.0</td>\n",
       "      <td>1.0</td>\n",
       "      <td>6.0</td>\n",
       "      <td>9.0</td>\n",
       "      <td>1.0</td>\n",
       "      <td>1.0</td>\n",
       "      <td>0.0</td>\n",
       "    </tr>\n",
       "    <tr>\n",
       "      <th>62</th>\n",
       "      <td>45.0</td>\n",
       "      <td>52.0</td>\n",
       "      <td>17.0</td>\n",
       "      <td>7.0</td>\n",
       "      <td>0.0</td>\n",
       "      <td>0.0</td>\n",
       "      <td>1.0</td>\n",
       "    </tr>\n",
       "  </tbody>\n",
       "</table>\n",
       "<p>63 rows × 7 columns</p>\n",
       "</div>"
      ],
      "text/plain": [
       "    Present_Price  Kms_Driven  Brand_Name  Age  Seller_Type  Fuel_Type   \n",
       "0             5.0        14.0         1.0  3.0          1.0        1.0  \\\n",
       "1            44.0        55.0        12.0  4.0          0.0        1.0   \n",
       "2            45.0        47.0        17.0  7.0          0.0        0.0   \n",
       "3            42.0        37.0        11.0  2.0          0.0        1.0   \n",
       "4            33.0         3.0        20.0  0.0          0.0        1.0   \n",
       "..            ...         ...         ...  ...          ...        ...   \n",
       "58            6.0        19.0         7.0  5.0          1.0        1.0   \n",
       "59           20.0        20.0        18.0  2.0          0.0        0.0   \n",
       "60            3.0        24.0         0.0  5.0          1.0        1.0   \n",
       "61            4.0         1.0         6.0  9.0          1.0        1.0   \n",
       "62           45.0        52.0        17.0  7.0          0.0        0.0   \n",
       "\n",
       "    Transmission  \n",
       "0            1.0  \n",
       "1            1.0  \n",
       "2            1.0  \n",
       "3            1.0  \n",
       "4            1.0  \n",
       "..           ...  \n",
       "58           1.0  \n",
       "59           1.0  \n",
       "60           1.0  \n",
       "61           0.0  \n",
       "62           1.0  \n",
       "\n",
       "[63 rows x 7 columns]"
      ]
     },
     "execution_count": 56,
     "metadata": {},
     "output_type": "execute_result"
    }
   ],
   "source": [
    "featuer_selected_1=x_test_encode[Feature_selection]\n",
    "featuer_selected_1"
   ]
  },
  {
   "cell_type": "code",
   "execution_count": 57,
   "id": "bb9318e9",
   "metadata": {},
   "outputs": [],
   "source": [
    "y_pred=pd.DataFrame(model.predict(featuer_selected_1))"
   ]
  },
  {
   "cell_type": "code",
   "execution_count": 58,
   "id": "7bd105e7",
   "metadata": {},
   "outputs": [
    {
     "data": {
      "text/html": [
       "<div>\n",
       "<style scoped>\n",
       "    .dataframe tbody tr th:only-of-type {\n",
       "        vertical-align: middle;\n",
       "    }\n",
       "\n",
       "    .dataframe tbody tr th {\n",
       "        vertical-align: top;\n",
       "    }\n",
       "\n",
       "    .dataframe thead th {\n",
       "        text-align: right;\n",
       "    }\n",
       "</style>\n",
       "<table border=\"1\" class=\"dataframe\">\n",
       "  <thead>\n",
       "    <tr style=\"text-align: right;\">\n",
       "      <th></th>\n",
       "      <th>0</th>\n",
       "    </tr>\n",
       "  </thead>\n",
       "  <tbody>\n",
       "    <tr>\n",
       "      <th>0</th>\n",
       "      <td>8.929948</td>\n",
       "    </tr>\n",
       "    <tr>\n",
       "      <th>1</th>\n",
       "      <td>47.551497</td>\n",
       "    </tr>\n",
       "    <tr>\n",
       "      <th>2</th>\n",
       "      <td>42.457513</td>\n",
       "    </tr>\n",
       "    <tr>\n",
       "      <th>3</th>\n",
       "      <td>52.908727</td>\n",
       "    </tr>\n",
       "    <tr>\n",
       "      <th>4</th>\n",
       "      <td>52.888749</td>\n",
       "    </tr>\n",
       "    <tr>\n",
       "      <th>...</th>\n",
       "      <td>...</td>\n",
       "    </tr>\n",
       "    <tr>\n",
       "      <th>58</th>\n",
       "      <td>2.995345</td>\n",
       "    </tr>\n",
       "    <tr>\n",
       "      <th>59</th>\n",
       "      <td>39.327726</td>\n",
       "    </tr>\n",
       "    <tr>\n",
       "      <th>60</th>\n",
       "      <td>0.432245</td>\n",
       "    </tr>\n",
       "    <tr>\n",
       "      <th>61</th>\n",
       "      <td>-12.887181</td>\n",
       "    </tr>\n",
       "    <tr>\n",
       "      <th>62</th>\n",
       "      <td>42.379253</td>\n",
       "    </tr>\n",
       "  </tbody>\n",
       "</table>\n",
       "<p>63 rows × 1 columns</p>\n",
       "</div>"
      ],
      "text/plain": [
       "            0\n",
       "0    8.929948\n",
       "1   47.551497\n",
       "2   42.457513\n",
       "3   52.908727\n",
       "4   52.888749\n",
       "..        ...\n",
       "58   2.995345\n",
       "59  39.327726\n",
       "60   0.432245\n",
       "61 -12.887181\n",
       "62  42.379253\n",
       "\n",
       "[63 rows x 1 columns]"
      ]
     },
     "execution_count": 58,
     "metadata": {},
     "output_type": "execute_result"
    }
   ],
   "source": [
    "y_pred"
   ]
  },
  {
   "cell_type": "code",
   "execution_count": 59,
   "id": "5d7cd50c",
   "metadata": {},
   "outputs": [
    {
     "name": "stdout",
     "output_type": "stream",
     "text": [
      "Mean Absolute Error: 9.528335055116013\n",
      "Mean Squared Error : 115.30200134985378\n",
      "Root Mean Squared Error : 10.73787694797504\n"
     ]
    }
   ],
   "source": [
    "print('Mean Absolute Error:',mean_absolute_error(y_pred,y_test_encode))\n",
    "print('Mean Squared Error :',mean_squared_error(y_pred,y_test_encode))\n",
    "print('Root Mean Squared Error :',sqrt(mean_squared_error(y_pred,y_test_encode)))"
   ]
  },
  {
   "cell_type": "code",
   "execution_count": 60,
   "id": "c3d23ecc",
   "metadata": {},
   "outputs": [
    {
     "data": {
      "image/png": "[encoded data removed]",
      "text/plain": [
       "<Figure size 640x480 with 1 Axes>"
      ]
     },
     "metadata": {},
     "output_type": "display_data"
    }
   ],
   "source": [
    "fig = plt.figure()\n",
    "sns.distplot(y_test_encode, label='y_test')\n",
    "sns.distplot(y_pred, label='y_pred')\n",
    "fig.suptitle('y_test vs y_pred', fontsize=15)  # Plot heading \n",
    "plt.xlabel('Values', fontsize=15)  # X-label\n",
    "plt.legend()\n",
    "plt.show()\n"
   ]
  }
 ],
 "metadata": {
  "kernelspec": {
   "display_name": "Python 3 (ipykernel)",
   "language": "python",
   "name": "python3"
  },
  "language_info": {
   "codemirror_mode": {
    "name": "ipython",
    "version": 3
   },
   "file_extension": ".py",
   "mimetype": "text/x-python",
   "name": "python",
   "nbconvert_exporter": "python",
   "pygments_lexer": "ipython3",
   "version": "3.10.9"
  }
 },
 "nbformat": 4,
 "nbformat_minor": 5
}
